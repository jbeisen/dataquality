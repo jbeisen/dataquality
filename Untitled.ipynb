{
 "cells": [
  {
   "cell_type": "code",
   "execution_count": 2,
   "id": "c828f17b",
   "metadata": {},
   "outputs": [],
   "source": [
    "import dataquality"
   ]
  },
  {
   "cell_type": "code",
   "execution_count": 4,
   "id": "a0607289",
   "metadata": {
    "scrolled": true
   },
   "outputs": [
    {
     "name": "stdout",
     "output_type": "stream",
     "text": [
      "🔭 Logging you into Galileo\n",
      "\n",
      "🔐 How would you like to login? \n",
      "Enter one of the following: email\n",
      "email\n",
      "🚀 You're logged in to Galileo as anthony@rungalileo.io!\n"
     ]
    }
   ],
   "source": [
    "dataquality.login()"
   ]
  },
  {
   "cell_type": "code",
   "execution_count": 5,
   "id": "30b101ad",
   "metadata": {},
   "outputs": [
    {
     "name": "stdout",
     "output_type": "stream",
     "text": [
      "📡 Retrieved project, doubtful_purple_mollusk, and starting a new run\n",
      "🏃‍♂️ Starting run many_apricot_python\n",
      "🛰 Connected to project, doubtful_purple_mollusk, and created run, many_apricot_python.\n"
     ]
    }
   ],
   "source": [
    "dataquality.init(project_name=\"doubtful_purple_mollusk\")"
   ]
  },
  {
   "cell_type": "code",
   "execution_count": 6,
   "id": "d23717c6",
   "metadata": {},
   "outputs": [
    {
     "name": "stdout",
     "output_type": "stream",
     "text": [
      "⚠️ You must specify a project name to initialize a new Galileo run or simply run dataquality.init().\n"
     ]
    }
   ],
   "source": [
    "dataquality.init(run_id=\"lel\")"
   ]
  },
  {
   "cell_type": "code",
   "execution_count": 9,
   "id": "372a33ac",
   "metadata": {},
   "outputs": [
    {
     "name": "stdout",
     "output_type": "stream",
     "text": [
      "📡 Retrieving existing run from project, doubtful_purple_mollusk\n"
     ]
    }
   ],
   "source": [
    "dataquality.init(project_name=\"doubtful_purple_mollusk\", run_id=\"f83b5e5c-94bc-4ca4-950b-7238042e9bf8\")"
   ]
  },
  {
   "cell_type": "code",
   "execution_count": null,
   "id": "5bd95468",
   "metadata": {},
   "outputs": [],
   "source": []
  }
 ],
 "metadata": {
  "kernelspec": {
   "display_name": "Python 3 (ipykernel)",
   "language": "python",
   "name": "python3"
  },
  "language_info": {
   "codemirror_mode": {
    "name": "ipython",
    "version": 3
   },
   "file_extension": ".py",
   "mimetype": "text/x-python",
   "name": "python",
   "nbconvert_exporter": "python",
   "pygments_lexer": "ipython3",
   "version": "3.9.6"
  }
 },
 "nbformat": 4,
 "nbformat_minor": 5
}
